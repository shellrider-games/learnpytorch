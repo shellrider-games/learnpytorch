{
 "cells": [
  {
   "cell_type": "code",
   "execution_count": 1,
   "id": "0505a605-d0f7-40e1-a31d-6ceea5b9c3d3",
   "metadata": {},
   "outputs": [],
   "source": [
    "import torch\n",
    "from torch import nn\n",
    "import matplotlib.pyplot as plt"
   ]
  },
  {
   "cell_type": "code",
   "execution_count": 2,
   "id": "0c7c4e96-18c9-43dc-b3f4-c9dfd766ef8a",
   "metadata": {},
   "outputs": [
    {
     "name": "stdout",
     "output_type": "stream",
     "text": [
      "PyTorch version: 2.1.2\n"
     ]
    }
   ],
   "source": [
    "print(f\"PyTorch version: {torch.__version__}\")"
   ]
  },
  {
   "cell_type": "markdown",
   "id": "34003b77-bd93-4791-afff-af37d9bb0da6",
   "metadata": {},
   "source": [
    "## Data (preparing and loading)\n",
    "\n",
    "Data can be almost anything... in machine learning\n",
    "* Excel spreadsheets\n",
    "* Images\n",
    "* Videos\n",
    "* Audio\n",
    "* DNA\n",
    "* Text\n",
    "\n",
    "Two parts of ML\n",
    "1. Get data into numerical representation\n",
    "2. Build model to learn patterns"
   ]
  },
  {
   "cell_type": "markdown",
   "id": "aa9cdcc3-2c30-4ef0-bd32-b23582aea80a",
   "metadata": {},
   "source": [
    "### Let's create some known data using the linear regression forumla!\n",
    "\n",
    "Make a straight line with known **parameters**"
   ]
  },
  {
   "cell_type": "code",
   "execution_count": 3,
   "id": "9ff580c3-5b0d-4baa-b707-a02827285b1b",
   "metadata": {},
   "outputs": [],
   "source": [
    "# Create parameters\n",
    "weight = 0.69\n",
    "bias = 0.420\n",
    "\n",
    "# Create some data\n",
    "\n",
    "start = 0.0\n",
    "end = 1.0\n",
    "step = 0.02\n",
    "\n",
    "X = torch.arange(start, end+step, step).unsqueeze(dim=1)\n",
    "y = weight * X + bias"
   ]
  },
  {
   "cell_type": "markdown",
   "id": "a316bfd3-87dc-423f-8d22-68e35cd52edc",
   "metadata": {},
   "source": [
    "### Splitting data into training and test sets\n",
    "One of most important concepts\n",
    "\n",
    "Let's create training and test sets with our data"
   ]
  },
  {
   "cell_type": "code",
   "execution_count": 4,
   "id": "f75e1030-2798-4d41-b4d2-53f4c9a9e874",
   "metadata": {},
   "outputs": [],
   "source": [
    "train_split = int(0.8 * len(X))"
   ]
  },
  {
   "cell_type": "code",
   "execution_count": 5,
   "id": "d95f5ce3-dd88-4fb3-b508-b3c46c9742df",
   "metadata": {},
   "outputs": [
    {
     "name": "stdout",
     "output_type": "stream",
     "text": [
      "Number of train samples: 40 features, 40 labels.\n",
      "Number of test samples: 11 features, 11 labels.\n"
     ]
    }
   ],
   "source": [
    "X_train, y_train = X[:train_split], y[:train_split]\n",
    "X_test, y_test = X[train_split:], y[train_split:]\n",
    "\n",
    "print(f\"Number of train samples: { len(X_train) } features, { len(y_train) } labels.\")\n",
    "print(f\"Number of test samples: { len(X_test) } features, { len(y_test) } labels.\")"
   ]
  },
  {
   "cell_type": "markdown",
   "id": "fd75928a-6d1a-4142-a2b3-0a19bf44b3f6",
   "metadata": {},
   "source": [
    "## Visualising the data"
   ]
  },
  {
   "cell_type": "code",
   "execution_count": 6,
   "id": "8d0c2eba-e761-452a-86c5-55276fc0f644",
   "metadata": {},
   "outputs": [],
   "source": [
    "def plot_prediction(train_data, train_labels, test_data, test_labels, predictions = None):\n",
    "    plt.figure(figsize=(10,7))\n",
    "    plt.scatter(train_data, train_labels, c=\"b\", s=4, label=\"Training data\")\n",
    "    plt.scatter(test_data, test_labels, c=\"g\", s=4, label=\"Testing data\")\n",
    "    \n",
    "    if predictions is not None:\n",
    "        plt.scatter(test_data, predictions, c=\"r\", label=\"Predictions\")\n",
    "\n",
    "    plt.legend(prop={\"size\" : 14})"
   ]
  },
  {
   "cell_type": "code",
   "execution_count": 7,
   "id": "1e718841-0ceb-4152-8220-63fd186417c0",
   "metadata": {},
   "outputs": [
    {
     "data": {
      "image/png": "[encoded data removed]",
      "text/plain": [
       "<Figure size 1000x700 with 1 Axes>"
      ]
     },
     "metadata": {},
     "output_type": "display_data"
    }
   ],
   "source": [
    "plot_prediction(X_train, y_train, X_test, y_test)"
   ]
  },
  {
   "cell_type": "markdown",
   "id": "a31dc0f0-c73a-4195-8b19-7d0bc54d5dad",
   "metadata": {},
   "source": [
    "## Build model"
   ]
  },
  {
   "cell_type": "code",
   "execution_count": 8,
   "id": "8a5df421-02e6-4424-8e5b-c905d08917f9",
   "metadata": {},
   "outputs": [],
   "source": [
    "# Create a linear regression model class\n",
    "class LinearRegressionModel(nn.Module):\n",
    "    def __init__(self):\n",
    "        super().__init__()\n",
    "        self.weights = nn.Parameter(\n",
    "            torch.randn(\n",
    "                1,\n",
    "                requires_grad=True,\n",
    "                dtype=torch.float)\n",
    "        )\n",
    "        self.bias = nn.Parameter(\n",
    "            torch.randn(\n",
    "                1,\n",
    "                requires_grad=True,\n",
    "                dtype=torch.float)\n",
    "        )\n",
    "    def forward(self, x: torch.Tensor) -> torch.Tensor:\n",
    "        return self.weights * x + self.bias # Linear regression formula"
   ]
  },
  {
   "cell_type": "markdown",
   "id": "79e8cc7a-a809-4d34-b609-1bdd8ebdb5ce",
   "metadata": {},
   "source": [
    "### PyTorch model building\n",
    "\n",
    "* Torch.nn contains all the building blocks for computational graphs.\n",
    "* torch.nn.Parameter - what parameters should our model try and learn\n",
    "* torch.nn.Module - base class for all neural network modules\n",
    "* torch.optim - this is where the optimzers in PyTorch live\n",
    "* def forward() - All nn.Module subclasses require overwriting forward, this method defines what happens in forward computation"
   ]
  },
  {
   "cell_type": "markdown",
   "id": "2240bc03-7a1a-4cd1-b9cc-a43b3f971eac",
   "metadata": {},
   "source": [
    "### Checking contents of a pytorch model"
   ]
  },
  {
   "cell_type": "code",
   "execution_count": 9,
   "id": "3e2e15e3-a7fb-4b0c-9240-972f5d3668c7",
   "metadata": {},
   "outputs": [],
   "source": [
    "torch.manual_seed(42)\n",
    "model_0 = LinearRegressionModel()"
   ]
  },
  {
   "cell_type": "code",
   "execution_count": 10,
   "id": "27a49a24-950a-47a7-b044-b8bea7ed9b2e",
   "metadata": {},
   "outputs": [],
   "source": [
    "def print_model_params(model : nn.Module):\n",
    "    params = model_0.state_dict()\n",
    "    print(\"Parameters \\n\")\n",
    "    for k in params:\n",
    "        print(f\"{k} : {params[k]}\")"
   ]
  },
  {
   "cell_type": "code",
   "execution_count": 11,
   "id": "03347ef2-2724-4b6a-a6e3-2b55e8ffdafc",
   "metadata": {},
   "outputs": [
    {
     "name": "stdout",
     "output_type": "stream",
     "text": [
      "Parameters \n",
      "\n",
      "weights : tensor([0.3367])\n",
      "bias : tensor([0.1288])\n"
     ]
    }
   ],
   "source": [
    "print_model_params(model_0)"
   ]
  },
  {
   "cell_type": "markdown",
   "id": "20305f26-07d2-4440-9504-c0e1fa2715a1",
   "metadata": {},
   "source": [
    "### Making prediction using `torch.inference_mode()`"
   ]
  },
  {
   "cell_type": "code",
   "execution_count": 12,
   "id": "f8a81c9c-202a-44b9-a5c5-0cdba06247f1",
   "metadata": {},
   "outputs": [],
   "source": [
    "with torch.inference_mode():\n",
    "    y_preds = model_0(X_test)"
   ]
  },
  {
   "cell_type": "code",
   "execution_count": 13,
   "id": "f1d402a6-8c42-43f8-a447-bf466b07332c",
   "metadata": {},
   "outputs": [
    {
     "data": {
      "image/png": "[encoded data removed]",
      "text/plain": [
       "<Figure size 1000x700 with 1 Axes>"
      ]
     },
     "metadata": {},
     "output_type": "display_data"
    }
   ],
   "source": [
    "plot_prediction(X_train, y_train, X_test, y_test, y_preds)"
   ]
  },
  {
   "cell_type": "code",
   "execution_count": null,
   "id": "8aae6aa6-33b8-46da-a45b-762039d399e2",
   "metadata": {},
   "outputs": [],
   "source": []
  }
 ],
 "metadata": {
  "kernelspec": {
   "display_name": "Python 3 (ipykernel)",
   "language": "python",
   "name": "python3"
  },
  "language_info": {
   "codemirror_mode": {
    "name": "ipython",
    "version": 3
   },
   "file_extension": ".py",
   "mimetype": "text/x-python",
   "name": "python",
   "nbconvert_exporter": "python",
   "pygments_lexer": "ipython3",
   "version": "3.9.10"
  }
 },
 "nbformat": 4,
 "nbformat_minor": 5
}
