{
 "cells": [
  {
   "cell_type": "code",
   "execution_count": 1,
   "id": "4340d7f6-3195-4e9c-9bff-0d16d28b76fe",
   "metadata": {},
   "outputs": [],
   "source": [
    "import torch\n",
    "from torch import nn\n",
    "import matplotlib.pyplot as plt\n",
    "from sklearn.datasets import make_blobs\n",
    "from sklearn.model_selection import train_test_split\n",
    "import requests\n",
    "from pathlib import Path\n",
    "import pandas"
   ]
  },
  {
   "cell_type": "code",
   "execution_count": 2,
   "id": "c88c4205-ed37-427a-ab19-73ef29e322d6",
   "metadata": {},
   "outputs": [],
   "source": [
    "def calculate_accuracy(model_outputs, labels):\n",
    "    _, predicted = torch.max(model_outputs, dim=1)\n",
    "    correct = (predicted == labels).sum().item()\n",
    "    return 100 * (correct / len(labels))"
   ]
  },
  {
   "cell_type": "markdown",
   "id": "60cc321e-46cc-49c6-a7eb-6a627d740738",
   "metadata": {},
   "source": [
    "# Getting a multiclass dataset"
   ]
  },
  {
   "cell_type": "code",
   "execution_count": 3,
   "id": "6031e137-c1f2-4ba6-b23e-f872e9a76615",
   "metadata": {},
   "outputs": [],
   "source": [
    "DATA_PATH = 'penguins.csv'"
   ]
  },
  {
   "cell_type": "code",
   "execution_count": 4,
   "id": "ec504c83-4a7b-4c89-b662-9bb8558c0a2f",
   "metadata": {},
   "outputs": [
    {
     "name": "stdout",
     "output_type": "stream",
     "text": [
      "penguins.csv already exists, skipping download.\n"
     ]
    }
   ],
   "source": [
    "if Path(DATA_PATH).is_file():\n",
    "    print(f\"{DATA_PATH} already exists, skipping download.\")\n",
    "else:\n",
    "    print(f\"Downloading data...\")\n",
    "    req = requests.get(\"https://gist.githubusercontent.com/slopp/ce3b90b9168f2f921784de84fa445651/raw/4ecf3041f0ed4913e7c230758733948bc561f434/penguins.csv\")\n",
    "    with open(DATA_PATH, \"wb\") as f:\n",
    "        f.write(req.content)\n",
    "    print(\"Done\")"
   ]
  },
  {
   "cell_type": "code",
   "execution_count": 5,
   "id": "f3556820-9751-4bea-a884-4240d0290be1",
   "metadata": {},
   "outputs": [],
   "source": [
    "df = pandas.read_csv(DATA_PATH)"
   ]
  },
  {
   "cell_type": "markdown",
   "id": "8a3cd8fe-e4ce-4f7a-bc39-c21b16b09d70",
   "metadata": {},
   "source": [
    "## Drop rows with NaN"
   ]
  },
  {
   "cell_type": "code",
   "execution_count": 6,
   "id": "e670ddf5-12f1-492d-9889-9370afc75dc2",
   "metadata": {},
   "outputs": [],
   "source": [
    "df = df.dropna()"
   ]
  },
  {
   "cell_type": "code",
   "execution_count": 7,
   "id": "b2b74ca4-0eaa-4846-bb82-2430164e0e51",
   "metadata": {},
   "outputs": [],
   "source": [
    "df = df[[\"bill_length_mm\", \"bill_depth_mm\",\"flipper_length_mm\",\"body_mass_g\",\"species\"]]"
   ]
  },
  {
   "cell_type": "markdown",
   "id": "28904233-7016-4b22-82a3-0c672ccf8da6",
   "metadata": {
    "jp-MarkdownHeadingCollapsed": true
   },
   "source": [
    "## Show unique classes (species)"
   ]
  },
  {
   "cell_type": "code",
   "execution_count": 8,
   "id": "a28459d9-3ffb-4679-9fac-5a0337889659",
   "metadata": {},
   "outputs": [
    {
     "data": {
      "text/plain": [
       "array(['Adelie', 'Gentoo', 'Chinstrap'], dtype=object)"
      ]
     },
     "execution_count": 8,
     "metadata": {},
     "output_type": "execute_result"
    }
   ],
   "source": [
    "df[\"species\"].unique()"
   ]
  },
  {
   "cell_type": "markdown",
   "id": "03752928-0786-4e41-a422-ae8eeb1f9bd2",
   "metadata": {},
   "source": [
    "## Map unique classes to numerical value"
   ]
  },
  {
   "cell_type": "code",
   "execution_count": 9,
   "id": "c2dcfa60-0bfb-45af-a232-13e1632666f7",
   "metadata": {},
   "outputs": [],
   "source": [
    "class_dict = {}\n",
    "for idx, val in enumerate(df[\"species\"].unique()):\n",
    "    class_dict[val] = float(idx)\n",
    "df[\"species\"] = df[\"species\"].map(class_dict)"
   ]
  },
  {
   "cell_type": "markdown",
   "id": "7190c9df-0a5e-45f5-b1b0-04f8d3d342f9",
   "metadata": {},
   "source": [
    "## Split into data and target"
   ]
  },
  {
   "cell_type": "code",
   "execution_count": 10,
   "id": "03d0b21c-7040-4a00-ab72-5f21808848b0",
   "metadata": {},
   "outputs": [],
   "source": [
    "X_df = df.iloc[:,:-1]\n",
    "y_df = df.iloc[:,-1:]"
   ]
  },
  {
   "cell_type": "markdown",
   "id": "5c95b73d-58b3-4580-a0ff-98091152fbdd",
   "metadata": {},
   "source": [
    "## Get device for device-agnostic code"
   ]
  },
  {
   "cell_type": "code",
   "execution_count": 11,
   "id": "a40ee50c-8ace-475f-8c0f-bfef45502923",
   "metadata": {},
   "outputs": [
    {
     "data": {
      "text/plain": [
       "'cuda'"
      ]
     },
     "execution_count": 11,
     "metadata": {},
     "output_type": "execute_result"
    }
   ],
   "source": [
    "device = \"cuda\" if torch.cuda.is_available() else \"mps\" if torch.backends.mps.is_available() else \"cpu\"\n",
    "device"
   ]
  },
  {
   "cell_type": "markdown",
   "id": "804be5d2-26f1-4fc8-8f96-b341c2360743",
   "metadata": {},
   "source": [
    "## Create tensors"
   ]
  },
  {
   "cell_type": "code",
   "execution_count": 12,
   "id": "46318dcf-067a-45c5-b177-a104282a0b0b",
   "metadata": {},
   "outputs": [],
   "source": [
    "X = torch.tensor(X_df.values, dtype=torch.float32)\n",
    "y = torch.tensor(y_df.values).squeeze()"
   ]
  },
  {
   "cell_type": "code",
   "execution_count": 13,
   "id": "720e952b-3743-43e4-a831-0d350d67382b",
   "metadata": {},
   "outputs": [],
   "source": [
    "X_train, X_test, y_train, y_test = train_test_split(X,y,test_size=0.2)\n",
    "X_train = X_train.to(device).type(torch.float)\n",
    "X_test = X_test.to(device).type(torch.float)\n",
    "y_train = y_train.to(device).type(torch.int64)\n",
    "y_test= y_test.to(device).type(torch.int64)"
   ]
  },
  {
   "cell_type": "markdown",
   "id": "c93ca2a4-8724-4f9f-bf25-1ad0b5ac3074",
   "metadata": {},
   "source": [
    "## Build model"
   ]
  },
  {
   "cell_type": "code",
   "execution_count": 14,
   "id": "db4d3662-3d0c-43e2-b65f-51d903e553f0",
   "metadata": {},
   "outputs": [],
   "source": [
    "class PenguinModel(nn.Module):\n",
    "    def __init__(self, input_features, output_features, hidden_units=8):\n",
    "        super().__init__()\n",
    "        self.linear_layer_stack = nn.Sequential(\n",
    "            nn.Linear(in_features=input_features, out_features=hidden_units),\n",
    "            nn.ReLU(),\n",
    "            nn.Linear(in_features=hidden_units, out_features=hidden_units),\n",
    "            nn.ReLU(),\n",
    "            nn.Linear(in_features=hidden_units, out_features=output_features)\n",
    "        )\n",
    "    def forward(self, x):\n",
    "        return self.linear_layer_stack(x)"
   ]
  },
  {
   "cell_type": "code",
   "execution_count": 15,
   "id": "b9fd79be-6810-4616-a131-c59693b441d8",
   "metadata": {},
   "outputs": [],
   "source": [
    "model = PenguinModel(input_features=4, output_features=3, hidden_units=32).to(device)"
   ]
  },
  {
   "cell_type": "markdown",
   "id": "85570809-a5a7-4d71-a6fe-6e89b125841a",
   "metadata": {},
   "source": [
    "## Setup loss function and optimizer"
   ]
  },
  {
   "cell_type": "code",
   "execution_count": 16,
   "id": "18b51c84-20f0-46da-a526-9e8389758ab6",
   "metadata": {},
   "outputs": [],
   "source": [
    "loss_fn = nn.CrossEntropyLoss()\n",
    "optimizer = torch.optim.Adam(model.parameters(), lr=0.001)"
   ]
  },
  {
   "cell_type": "markdown",
   "id": "6a4e85a7-2a60-4553-88bd-000f5bcd4ef3",
   "metadata": {},
   "source": [
    "## Train and Eval loop"
   ]
  },
  {
   "cell_type": "code",
   "execution_count": 17,
   "id": "d4f15a47-19b8-4a7b-b741-9ea183096424",
   "metadata": {},
   "outputs": [
    {
     "data": {
      "text/plain": [
       "(torch.Size([266, 4]),\n",
       " torch.Size([266]),\n",
       " torch.Size([67, 4]),\n",
       " torch.Size([67]))"
      ]
     },
     "execution_count": 17,
     "metadata": {},
     "output_type": "execute_result"
    }
   ],
   "source": [
    "X_train.shape, y_train.shape, X_test.shape, y_test.shape"
   ]
  },
  {
   "cell_type": "code",
   "execution_count": 18,
   "id": "3837275b-dd7e-4315-b880-daaaf6d206d8",
   "metadata": {
    "scrolled": true
   },
   "outputs": [
    {
     "name": "stdout",
     "output_type": "stream",
     "text": [
      "Epoch: 0 | Loss: 81.8743, Acc: 20.30% | Test loss: 64.0417, Test acc: 20.90%\n",
      "Epoch: 100 | Loss: 0.7304, Acc: 66.92% | Test loss: 0.7611, Test acc: 67.16%\n",
      "Epoch: 200 | Loss: 0.6961, Acc: 67.29% | Test loss: 0.7338, Test acc: 67.16%\n",
      "Epoch: 300 | Loss: 0.6635, Acc: 68.42% | Test loss: 0.7041, Test acc: 68.66%\n",
      "Epoch: 400 | Loss: 0.6293, Acc: 69.55% | Test loss: 0.6730, Test acc: 70.15%\n",
      "Epoch: 500 | Loss: 0.5942, Acc: 70.30% | Test loss: 0.6407, Test acc: 71.64%\n",
      "Epoch: 600 | Loss: 0.5759, Acc: 74.81% | Test loss: 0.6343, Test acc: 68.66%\n",
      "Epoch: 700 | Loss: 0.5262, Acc: 74.81% | Test loss: 0.5776, Test acc: 76.12%\n",
      "Epoch: 800 | Loss: 0.4938, Acc: 75.94% | Test loss: 0.5495, Test acc: 82.09%\n",
      "Epoch: 900 | Loss: 0.4648, Acc: 83.83% | Test loss: 0.5202, Test acc: 74.63%\n",
      "Epoch: 1000 | Loss: 0.4298, Acc: 81.20% | Test loss: 0.4884, Test acc: 89.55%\n",
      "Epoch: 1100 | Loss: 0.3940, Acc: 86.84% | Test loss: 0.4529, Test acc: 89.55%\n",
      "Epoch: 1200 | Loss: 0.3708, Acc: 93.98% | Test loss: 0.4288, Test acc: 80.60%\n",
      "Epoch: 1300 | Loss: 0.3376, Acc: 92.48% | Test loss: 0.3962, Test acc: 89.55%\n",
      "Epoch: 1400 | Loss: 0.3109, Acc: 92.48% | Test loss: 0.3703, Test acc: 91.04%\n",
      "Epoch: 1500 | Loss: 0.2863, Acc: 93.23% | Test loss: 0.3458, Test acc: 91.04%\n",
      "Epoch: 1600 | Loss: 0.2636, Acc: 93.23% | Test loss: 0.3277, Test acc: 91.04%\n",
      "Epoch: 1700 | Loss: 0.2429, Acc: 94.36% | Test loss: 0.3023, Test acc: 91.04%\n",
      "Epoch: 1800 | Loss: 0.2238, Acc: 95.49% | Test loss: 0.2829, Test acc: 91.04%\n",
      "Epoch: 1900 | Loss: 0.2058, Acc: 96.24% | Test loss: 0.2645, Test acc: 91.04%\n",
      "Epoch: 2000 | Loss: 0.1891, Acc: 96.62% | Test loss: 0.2471, Test acc: 91.04%\n",
      "Epoch: 2100 | Loss: 0.5928, Acc: 73.31% | Test loss: 0.4454, Test acc: 85.07%\n",
      "Epoch: 2200 | Loss: 0.1753, Acc: 95.11% | Test loss: 0.2371, Test acc: 91.04%\n",
      "Epoch: 2300 | Loss: 0.1664, Acc: 95.86% | Test loss: 0.2290, Test acc: 91.04%\n",
      "Epoch: 2400 | Loss: 0.1590, Acc: 96.62% | Test loss: 0.2218, Test acc: 91.04%\n",
      "Epoch: 2500 | Loss: 0.1522, Acc: 97.37% | Test loss: 0.2145, Test acc: 91.04%\n",
      "Epoch: 2600 | Loss: 0.1458, Acc: 97.74% | Test loss: 0.2073, Test acc: 91.04%\n",
      "Epoch: 2700 | Loss: 0.1397, Acc: 97.74% | Test loss: 0.2002, Test acc: 91.04%\n",
      "Epoch: 2800 | Loss: 0.1337, Acc: 97.74% | Test loss: 0.1932, Test acc: 91.04%\n",
      "Epoch: 2900 | Loss: 0.1279, Acc: 97.74% | Test loss: 0.1863, Test acc: 91.04%\n",
      "Epoch: 3000 | Loss: 0.1224, Acc: 97.74% | Test loss: 0.1796, Test acc: 91.04%\n",
      "Epoch: 3100 | Loss: 0.1170, Acc: 97.74% | Test loss: 0.1732, Test acc: 92.54%\n",
      "Epoch: 3200 | Loss: 0.1117, Acc: 97.74% | Test loss: 0.1669, Test acc: 94.03%\n",
      "Epoch: 3300 | Loss: 0.1067, Acc: 97.74% | Test loss: 0.1608, Test acc: 94.03%\n",
      "Epoch: 3400 | Loss: 0.1019, Acc: 97.74% | Test loss: 0.1549, Test acc: 94.03%\n",
      "Epoch: 3500 | Loss: 0.0972, Acc: 97.74% | Test loss: 0.1491, Test acc: 94.03%\n",
      "Epoch: 3600 | Loss: 0.0927, Acc: 97.74% | Test loss: 0.1436, Test acc: 94.03%\n",
      "Epoch: 3700 | Loss: 0.0883, Acc: 97.74% | Test loss: 0.1382, Test acc: 94.03%\n",
      "Epoch: 3800 | Loss: 0.0842, Acc: 98.12% | Test loss: 0.1329, Test acc: 94.03%\n",
      "Epoch: 3900 | Loss: 0.0802, Acc: 98.50% | Test loss: 0.1277, Test acc: 94.03%\n",
      "Epoch: 4000 | Loss: 0.0763, Acc: 98.87% | Test loss: 0.1227, Test acc: 94.03%\n",
      "Epoch: 4100 | Loss: 0.0725, Acc: 98.87% | Test loss: 0.1185, Test acc: 94.03%\n",
      "Epoch: 4200 | Loss: 0.0689, Acc: 99.25% | Test loss: 0.1134, Test acc: 94.03%\n",
      "Epoch: 4300 | Loss: 0.0655, Acc: 99.25% | Test loss: 0.1088, Test acc: 94.03%\n",
      "Epoch: 4400 | Loss: 0.0621, Acc: 99.25% | Test loss: 0.1044, Test acc: 95.52%\n",
      "Epoch: 4500 | Loss: 0.0590, Acc: 99.25% | Test loss: 0.0994, Test acc: 95.52%\n",
      "Epoch: 4600 | Loss: 0.0561, Acc: 99.25% | Test loss: 0.0958, Test acc: 95.52%\n",
      "Epoch: 4700 | Loss: 0.0543, Acc: 98.50% | Test loss: 0.0895, Test acc: 95.52%\n",
      "Epoch: 4800 | Loss: 0.0505, Acc: 99.62% | Test loss: 0.0886, Test acc: 95.52%\n",
      "Epoch: 4900 | Loss: 0.0486, Acc: 99.25% | Test loss: 0.0872, Test acc: 94.03%\n",
      "Epoch: 4999 | Loss: 0.0461, Acc: 99.62% | Test loss: 0.0814, Test acc: 95.52%\n"
     ]
    }
   ],
   "source": [
    "epochs = 5000\n",
    "\n",
    "for epoch in range(epochs):\n",
    "    model.train()\n",
    "    optimizer.zero_grad()\n",
    "    \n",
    "    y_logits = model(X_train)\n",
    "    \n",
    "    loss = loss_fn(y_logits, y_train)\n",
    "    acc = calculate_accuracy(y_logits, y_train)\n",
    "    loss.backward()\n",
    "    optimizer.step()\n",
    "    \n",
    "    model.eval()\n",
    "    with torch.inference_mode():\n",
    "        test_logits = model(X_test)\n",
    "        test_loss = loss_fn(test_logits, y_test)\n",
    "        test_acc = calculate_accuracy(test_logits, y_test)\n",
    "    if (epoch % 100 == 0) or (epoch == epochs-1):\n",
    "        print(f\"Epoch: {epoch} | Loss: {loss:.4f}, Acc: {acc:.2f}% | Test loss: {test_loss:.4f}, Test acc: {test_acc:.2f}%\") "
   ]
  },
  {
   "cell_type": "markdown",
   "id": "fd047f4d-211d-41c9-ae77-dcb90eed65ca",
   "metadata": {},
   "source": [
    "## Evaluate"
   ]
  },
  {
   "cell_type": "code",
   "execution_count": 19,
   "id": "bb569538-7c4c-4e60-b819-4e815f032aab",
   "metadata": {},
   "outputs": [],
   "source": [
    "from torchmetrics import Accuracy"
   ]
  },
  {
   "cell_type": "code",
   "execution_count": 20,
   "id": "830bafd4-1f24-45e7-8822-c3727a606bc5",
   "metadata": {},
   "outputs": [],
   "source": [
    "logits = model(X.to(device))\n",
    "softmax = torch.softmax(logits, dim=1)\n",
    "labels = torch.argmax(softmax, dim= 1)"
   ]
  },
  {
   "cell_type": "code",
   "execution_count": 21,
   "id": "7e6b8bd6-54d3-4100-a94b-fcbf3075e0c7",
   "metadata": {},
   "outputs": [],
   "source": [
    "torchmetric_acc = Accuracy(task='multiclass', num_classes=3).to(device)"
   ]
  },
  {
   "cell_type": "code",
   "execution_count": 22,
   "id": "568000c1-2cec-404f-882c-4aa5954abc35",
   "metadata": {},
   "outputs": [
    {
     "data": {
      "text/plain": [
       "tensor([0, 0, 0, 0, 0, 0, 0, 0, 0, 0, 0, 0, 0, 0, 0, 0, 0, 0, 0, 0, 0, 0, 0, 0,\n",
       "        0, 0, 0, 0, 0, 0, 0, 0, 0, 0, 0, 0, 0, 0, 0, 0, 0, 0, 0, 0, 0, 0, 0, 0,\n",
       "        0, 0, 0, 0, 0, 0, 0, 0, 0, 0, 0, 0, 0, 0, 0, 0, 0, 0, 0, 0, 0, 0, 0, 0,\n",
       "        0, 0, 0, 0, 0, 0, 0, 0, 0, 0, 0, 0, 0, 0, 0, 0, 0, 0, 0, 0, 0, 0, 0, 0,\n",
       "        0, 0, 0, 0, 0, 0, 0, 0, 0, 0, 0, 0, 0, 0, 0, 0, 0, 0, 0, 0, 0, 0, 0, 0,\n",
       "        0, 0, 0, 0, 0, 0, 0, 0, 0, 0, 0, 0, 0, 0, 0, 0, 0, 0, 0, 0, 0, 0, 0, 0,\n",
       "        0, 0, 1, 1, 1, 1, 1, 1, 1, 1, 1, 1, 1, 1, 1, 1, 1, 1, 1, 1, 1, 1, 1, 1,\n",
       "        1, 1, 1, 1, 1, 1, 1, 1, 1, 1, 1, 1, 1, 1, 1, 1, 1, 1, 1, 1, 1, 1, 1, 1,\n",
       "        1, 1, 1, 1, 1, 1, 1, 1, 1, 1, 1, 1, 1, 1, 1, 1, 1, 1, 1, 1, 1, 1, 1, 1,\n",
       "        1, 1, 1, 1, 1, 1, 1, 1, 1, 1, 1, 1, 1, 1, 1, 1, 1, 1, 1, 1, 1, 1, 1, 1,\n",
       "        1, 1, 1, 1, 1, 1, 1, 1, 1, 1, 1, 1, 1, 1, 1, 1, 1, 1, 1, 1, 1, 1, 1, 1,\n",
       "        1, 2, 2, 2, 2, 2, 2, 2, 2, 2, 2, 2, 2, 2, 2, 2, 2, 2, 2, 2, 2, 2, 2, 2,\n",
       "        2, 2, 2, 2, 2, 2, 2, 2, 2, 2, 2, 2, 2, 2, 2, 2, 2, 2, 2, 2, 2, 2, 2, 2,\n",
       "        2, 2, 2, 2, 2, 2, 2, 2, 2, 2, 2, 2, 2, 2, 2, 2, 2, 2, 2, 2, 2],\n",
       "       dtype=torch.int32)"
      ]
     },
     "execution_count": 22,
     "metadata": {},
     "output_type": "execute_result"
    }
   ],
   "source": [
    "y.type(torch.int)"
   ]
  },
  {
   "cell_type": "code",
   "execution_count": 43,
   "id": "8b11d3e8-f2c1-49ef-a297-3de14c69552c",
   "metadata": {},
   "outputs": [],
   "source": [
    "model_acc = torchmetric_acc(labels.to(device), y.type(torch.int).to(device))\n",
    "model_acc = model_acc.item() * 100"
   ]
  },
  {
   "cell_type": "code",
   "execution_count": 48,
   "id": "cdd046e2-ef14-449c-8c6f-b83716e9c704",
   "metadata": {},
   "outputs": [
    {
     "name": "stdout",
     "output_type": "stream",
     "text": [
      "Model Accuracy: 98.80%\n"
     ]
    }
   ],
   "source": [
    "print(f\"Model Accuracy: {model_acc:.2f}%\")"
   ]
  },
  {
   "cell_type": "code",
   "execution_count": null,
   "id": "faf5b6c7-82b4-4753-bb4c-639551c13ebd",
   "metadata": {},
   "outputs": [],
   "source": []
  }
 ],
 "metadata": {
  "kernelspec": {
   "display_name": "Python 3 (ipykernel)",
   "language": "python",
   "name": "python3"
  },
  "language_info": {
   "codemirror_mode": {
    "name": "ipython",
    "version": 3
   },
   "file_extension": ".py",
   "mimetype": "text/x-python",
   "name": "python",
   "nbconvert_exporter": "python",
   "pygments_lexer": "ipython3",
   "version": "3.11.4"
  }
 },
 "nbformat": 4,
 "nbformat_minor": 5
}
