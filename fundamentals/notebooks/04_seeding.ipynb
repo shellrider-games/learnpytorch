{
 "cells": [
  {
   "cell_type": "markdown",
   "id": "3a45dfd9-28b1-4288-a4f3-97368a88bbbc",
   "metadata": {},
   "source": [
    "## Reproducibility\n"
   ]
  },
  {
   "cell_type": "code",
   "execution_count": 1,
   "id": "62d80c5b-2a2e-4925-9e64-d10ab4ae551e",
   "metadata": {},
   "outputs": [],
   "source": [
    "import torch"
   ]
  },
  {
   "cell_type": "code",
   "execution_count": 2,
   "id": "65b25d87-2ea8-49df-b1d5-f5d54fc05a80",
   "metadata": {},
   "outputs": [],
   "source": [
    "RANDOM_SEED = 42"
   ]
  },
  {
   "cell_type": "code",
   "execution_count": 3,
   "id": "33abc911-e504-4a8c-a3a4-c054be94f4e5",
   "metadata": {},
   "outputs": [
    {
     "name": "stdout",
     "output_type": "stream",
     "text": [
      "A:\n",
      " tensor([[0.8823, 0.9150, 0.3829, 0.9593],\n",
      "        [0.3904, 0.6009, 0.2566, 0.7936],\n",
      "        [0.9408, 0.1332, 0.9346, 0.5936]])\n",
      "B:\n",
      " tensor([[0.8823, 0.9150, 0.3829, 0.9593],\n",
      "        [0.3904, 0.6009, 0.2566, 0.7936],\n",
      "        [0.9408, 0.1332, 0.9346, 0.5936]])\n",
      "Equality:\n",
      " tensor([[True, True, True, True],\n",
      "        [True, True, True, True],\n",
      "        [True, True, True, True]])\n"
     ]
    }
   ],
   "source": [
    "torch.manual_seed(RANDOM_SEED)\n",
    "rand_tensor_a = torch.rand(3,4)\n",
    "torch.manual_seed(RANDOM_SEED)\n",
    "rand_tensor_b = torch.rand(3,4)\n",
    "\n",
    "print(f\"A:\\n {rand_tensor_a}\")\n",
    "print(f\"B:\\n {rand_tensor_b}\")\n",
    "print(f\"Equality:\\n {rand_tensor_a == rand_tensor_b}\")"
   ]
  },
  {
   "cell_type": "code",
   "execution_count": null,
   "id": "02e6085a-39ed-4afc-bace-89a90609ca61",
   "metadata": {},
   "outputs": [],
   "source": []
  }
 ],
 "metadata": {
  "kernelspec": {
   "display_name": "Python 3 (ipykernel)",
   "language": "python",
   "name": "python3"
  },
  "language_info": {
   "codemirror_mode": {
    "name": "ipython",
    "version": 3
   },
   "file_extension": ".py",
   "mimetype": "text/x-python",
   "name": "python",
   "nbconvert_exporter": "python",
   "pygments_lexer": "ipython3",
   "version": "3.9.10"
  }
 },
 "nbformat": 4,
 "nbformat_minor": 5
}
