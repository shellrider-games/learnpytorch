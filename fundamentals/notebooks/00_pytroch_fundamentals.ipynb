{
 "cells": [
  {
   "cell_type": "markdown",
   "id": "f23ec67d-cd06-4142-a7fd-0f148ace7f41",
   "metadata": {},
   "source": [
    "# 00. PyTorch Fundamentals\n",
    "\n",
    "Based on: https://www.learnpytorch.io/00_pytorch_fundamentals/"
   ]
  },
  {
   "cell_type": "code",
   "execution_count": 1,
   "id": "2cec3d58-2e05-427f-a913-fd36554268dd",
   "metadata": {},
   "outputs": [
    {
     "name": "stdout",
     "output_type": "stream",
     "text": [
      "Hello, we are running pytorch version: 2.1.2\n"
     ]
    }
   ],
   "source": [
    "import torch\n",
    "print(\"Hello, we are running pytorch version: %s\" % torch.__version__)"
   ]
  },
  {
   "cell_type": "markdown",
   "id": "528efe45-6495-4070-a0a6-e9ed6c2079a6",
   "metadata": {},
   "source": [
    "## Tensors\n",
    "\n",
    "### Creating a tensor\n",
    "\n",
    "PyTorch tensors are created using `torch.tensor()` (https://pytorch.org/docs/stable/tensors.html)"
   ]
  },
  {
   "cell_type": "code",
   "execution_count": 2,
   "id": "0115d0d7-2620-4a69-b739-3294f22b17f2",
   "metadata": {},
   "outputs": [
    {
     "data": {
      "text/plain": [
       "tensor(11)"
      ]
     },
     "execution_count": 2,
     "metadata": {},
     "output_type": "execute_result"
    }
   ],
   "source": [
    "# Scalar \n",
    "scalar = torch.tensor(11)\n",
    "scalar"
   ]
  },
  {
   "cell_type": "code",
   "execution_count": 3,
   "id": "aafd8d23-979a-40c2-af6b-2cfa541795b5",
   "metadata": {},
   "outputs": [
    {
     "data": {
      "text/plain": [
       "0"
      ]
     },
     "execution_count": 3,
     "metadata": {},
     "output_type": "execute_result"
    }
   ],
   "source": [
    "#Get dimension of tensor, scalars are of dimension 0\n",
    "scalar.ndim"
   ]
  },
  {
   "cell_type": "code",
   "execution_count": 4,
   "id": "55ca6c5e-bfe1-42f6-8a70-170bfff4b823",
   "metadata": {},
   "outputs": [
    {
     "data": {
      "text/plain": [
       "11"
      ]
     },
     "execution_count": 4,
     "metadata": {},
     "output_type": "execute_result"
    }
   ],
   "source": [
    "#Get tensor back as python int\n",
    "scalar.item()"
   ]
  },
  {
   "cell_type": "code",
   "execution_count": 5,
   "id": "adb8d25f-f4fd-4ada-98a0-ce8f517a1ed0",
   "metadata": {},
   "outputs": [
    {
     "data": {
      "text/plain": [
       "tensor([11, 11])"
      ]
     },
     "execution_count": 5,
     "metadata": {},
     "output_type": "execute_result"
    }
   ],
   "source": [
    "# Vector\n",
    "vec = torch.tensor([11,11])\n",
    "vec"
   ]
  },
  {
   "cell_type": "code",
   "execution_count": 6,
   "id": "5d522998-53dd-4404-8513-3f8b88f0cbd1",
   "metadata": {},
   "outputs": [
    {
     "data": {
      "text/plain": [
       "1"
      ]
     },
     "execution_count": 6,
     "metadata": {},
     "output_type": "execute_result"
    }
   ],
   "source": [
    "vec.ndim"
   ]
  },
  {
   "cell_type": "code",
   "execution_count": 7,
   "id": "ead69a86-df5b-445c-9bc8-199c6c739ce6",
   "metadata": {},
   "outputs": [
    {
     "data": {
      "text/plain": [
       "torch.Size([2])"
      ]
     },
     "execution_count": 7,
     "metadata": {},
     "output_type": "execute_result"
    }
   ],
   "source": [
    "vec.shape"
   ]
  },
  {
   "cell_type": "code",
   "execution_count": 8,
   "id": "22b20c15-f3ce-4e7d-aa7e-36dda5c72709",
   "metadata": {},
   "outputs": [
    {
     "data": {
      "text/plain": [
       "tensor([[11, 12],\n",
       "        [13, 14]])"
      ]
     },
     "execution_count": 8,
     "metadata": {},
     "output_type": "execute_result"
    }
   ],
   "source": [
    "# MATRIX\n",
    "MATRIX = torch.tensor([[11,12],\n",
    "                       [13,14]])\n",
    "MATRIX"
   ]
  },
  {
   "cell_type": "code",
   "execution_count": 9,
   "id": "b87cf501-776f-4311-a3ce-ddd8ab4906fd",
   "metadata": {},
   "outputs": [
    {
     "data": {
      "text/plain": [
       "2"
      ]
     },
     "execution_count": 9,
     "metadata": {},
     "output_type": "execute_result"
    }
   ],
   "source": [
    "MATRIX.ndim"
   ]
  },
  {
   "cell_type": "code",
   "execution_count": 10,
   "id": "1adf4978-4ff7-4733-80c0-221c6bd6cac8",
   "metadata": {},
   "outputs": [
    {
     "data": {
      "text/plain": [
       "torch.Size([2, 2])"
      ]
     },
     "execution_count": 10,
     "metadata": {},
     "output_type": "execute_result"
    }
   ],
   "source": [
    "MATRIX.shape"
   ]
  },
  {
   "cell_type": "code",
   "execution_count": 11,
   "id": "b7e0e691-4ac1-4c8a-a6ae-e327c4a54cde",
   "metadata": {},
   "outputs": [
    {
     "data": {
      "text/plain": [
       "tensor([[[  1,   2,   3,   5],\n",
       "         [  3,   6,   9,   2],\n",
       "         [  2,   4,   6,  66]],\n",
       "\n",
       "        [[  2,   4,   6, 100],\n",
       "         [  7,   8,   9, 200],\n",
       "         [ 10,  11,  23, 300]]])"
      ]
     },
     "execution_count": 11,
     "metadata": {},
     "output_type": "execute_result"
    }
   ],
   "source": [
    "# TENSOR\n",
    "TENSOR = torch.tensor([[[1,2,3,5],[3,6,9,2],[2,4,6,66]],[[2,4,6,100],[7,8,9,200],[10,11,23,300]]])\n",
    "TENSOR"
   ]
  },
  {
   "cell_type": "code",
   "execution_count": 12,
   "id": "b7838826-3b82-4e8e-9bea-90b46477ae9e",
   "metadata": {},
   "outputs": [
    {
     "data": {
      "text/plain": [
       "3"
      ]
     },
     "execution_count": 12,
     "metadata": {},
     "output_type": "execute_result"
    }
   ],
   "source": [
    "TENSOR.ndim"
   ]
  },
  {
   "cell_type": "code",
   "execution_count": 13,
   "id": "9cbfc4c5-0640-405a-b78d-486fbdad471b",
   "metadata": {},
   "outputs": [
    {
     "data": {
      "text/plain": [
       "torch.Size([2, 3, 4])"
      ]
     },
     "execution_count": 13,
     "metadata": {},
     "output_type": "execute_result"
    }
   ],
   "source": [
    "TENSOR.shape"
   ]
  },
  {
   "cell_type": "code",
   "execution_count": 14,
   "id": "c451f131-b583-4dab-9ac7-26e228091937",
   "metadata": {},
   "outputs": [
    {
     "data": {
      "text/plain": [
       "tensor([[ 1,  2,  3,  5],\n",
       "        [ 3,  6,  9,  2],\n",
       "        [ 2,  4,  6, 66]])"
      ]
     },
     "execution_count": 14,
     "metadata": {},
     "output_type": "execute_result"
    }
   ],
   "source": [
    "TENSOR[0]"
   ]
  },
  {
   "cell_type": "markdown",
   "id": "010803cb-777c-4cf4-8902-5089dbd50e11",
   "metadata": {},
   "source": [
    "### Random tensors\n",
    "\n",
    "Why? Random tensors are important because the way many neural networks learn is that they start with tensors full of random numbers and then adjust those random numbers to better represent the data."
   ]
  },
  {
   "cell_type": "code",
   "execution_count": 15,
   "id": "4de8a199-b7b6-4b01-95a5-046b7930c21d",
   "metadata": {},
   "outputs": [],
   "source": [
    "# Create a random tensor of shape (3, 4)\n",
    "random_tensor = torch.rand(3, 3)"
   ]
  },
  {
   "cell_type": "code",
   "execution_count": 16,
   "id": "8a5cf6c0-eece-4e26-bff2-be42b5b4a281",
   "metadata": {},
   "outputs": [
    {
     "data": {
      "text/plain": [
       "tensor([[0.1610, 0.8996, 0.8611],\n",
       "        [0.3245, 0.6322, 0.5401],\n",
       "        [0.1471, 0.6450, 0.9608]])"
      ]
     },
     "execution_count": 16,
     "metadata": {},
     "output_type": "execute_result"
    }
   ],
   "source": [
    "random_tensor"
   ]
  },
  {
   "cell_type": "code",
   "execution_count": 17,
   "id": "cce57ead-e4d6-4055-a0ce-0572b9fc61d1",
   "metadata": {},
   "outputs": [
    {
     "data": {
      "text/plain": [
       "2"
      ]
     },
     "execution_count": 17,
     "metadata": {},
     "output_type": "execute_result"
    }
   ],
   "source": [
    "random_tensor.ndim"
   ]
  },
  {
   "cell_type": "code",
   "execution_count": 18,
   "id": "97b5ebba-0a11-443f-84a1-2352d4c3becb",
   "metadata": {},
   "outputs": [
    {
     "data": {
      "text/plain": [
       "(torch.Size([64, 64, 3]), 3)"
      ]
     },
     "execution_count": 18,
     "metadata": {},
     "output_type": "execute_result"
    }
   ],
   "source": [
    "# Create a random tensor with similar shape to an image tensor\n",
    "random_image_size_tensor = torch.rand(size=(64,64,3))\n",
    "random_image_size_tensor.shape, random_image_size_tensor.ndim"
   ]
  },
  {
   "cell_type": "markdown",
   "id": "ddc99ab1-65a6-401f-a28e-dad6412a1c35",
   "metadata": {},
   "source": [
    "### Zeros and Ones"
   ]
  },
  {
   "cell_type": "code",
   "execution_count": 19,
   "id": "d280154f-5730-4a2f-848f-eaa27fa83236",
   "metadata": {},
   "outputs": [
    {
     "data": {
      "text/plain": [
       "tensor([[0., 0., 0.],\n",
       "        [0., 0., 0.],\n",
       "        [0., 0., 0.]])"
      ]
     },
     "execution_count": 19,
     "metadata": {},
     "output_type": "execute_result"
    }
   ],
   "source": [
    "# Create a tensor of all zeros\n",
    "zeros = torch.zeros(size=(3,3))\n",
    "zeros"
   ]
  },
  {
   "cell_type": "code",
   "execution_count": 20,
   "id": "918c74d9-93cf-498b-90d6-07734bf36fac",
   "metadata": {},
   "outputs": [
    {
     "data": {
      "text/plain": [
       "tensor([[0., 0., 0.],\n",
       "        [0., 0., 0.],\n",
       "        [0., 0., 0.]])"
      ]
     },
     "execution_count": 20,
     "metadata": {},
     "output_type": "execute_result"
    }
   ],
   "source": [
    "zeros * random_tensor"
   ]
  },
  {
   "cell_type": "markdown",
   "id": "f761d653-a4b3-4b52-bd5f-364a4d208632",
   "metadata": {},
   "source": [
    "### Create a tensor of all ones"
   ]
  },
  {
   "cell_type": "code",
   "execution_count": 21,
   "id": "44b2c82d-e634-4d2f-9c5a-a5c95212e6e8",
   "metadata": {},
   "outputs": [
    {
     "data": {
      "text/plain": [
       "tensor([[1., 1., 1.],\n",
       "        [1., 1., 1.],\n",
       "        [1., 1., 1.]])"
      ]
     },
     "execution_count": 21,
     "metadata": {},
     "output_type": "execute_result"
    }
   ],
   "source": [
    "ones = torch.ones(size=(3,3))\n",
    "ones"
   ]
  },
  {
   "cell_type": "code",
   "execution_count": 22,
   "id": "228044b8-ad31-4728-ae12-129ecc0b4e20",
   "metadata": {},
   "outputs": [
    {
     "data": {
      "text/plain": [
       "torch.float32"
      ]
     },
     "execution_count": 22,
     "metadata": {},
     "output_type": "execute_result"
    }
   ],
   "source": [
    "ones.dtype"
   ]
  },
  {
   "cell_type": "code",
   "execution_count": 23,
   "id": "55e0df30-8971-4fee-9d3f-f653367a8225",
   "metadata": {},
   "outputs": [],
   "source": [
    "one_to_ten = torch.arange(1,11)\n",
    "zero_to_thousand = torch.arange(start=0, end=1000, step=66)"
   ]
  },
  {
   "cell_type": "code",
   "execution_count": 24,
   "id": "3e3ea17f-ccdd-40ee-902d-9c8149bd1cd9",
   "metadata": {
    "scrolled": true
   },
   "outputs": [
    {
     "data": {
      "text/plain": [
       "tensor([ 1,  2,  3,  4,  5,  6,  7,  8,  9, 10])"
      ]
     },
     "execution_count": 24,
     "metadata": {},
     "output_type": "execute_result"
    }
   ],
   "source": [
    "one_to_ten"
   ]
  },
  {
   "cell_type": "code",
   "execution_count": 25,
   "id": "773aa580-ccf8-4ce8-873e-5b63adc52a4b",
   "metadata": {},
   "outputs": [
    {
     "data": {
      "text/plain": [
       "tensor([0, 0, 0, 0, 0, 0, 0, 0, 0, 0])"
      ]
     },
     "execution_count": 25,
     "metadata": {},
     "output_type": "execute_result"
    }
   ],
   "source": [
    "ten_zeros = torch.zeros_like(input=one_to_ten)\n",
    "ten_zeros"
   ]
  },
  {
   "cell_type": "code",
   "execution_count": 26,
   "id": "230e27e1-f1c1-4b39-9df1-03a2d6cdf880",
   "metadata": {},
   "outputs": [],
   "source": [
    "float_32_tensor = torch.tensor(\n",
    "    [3.0, 6.0, 9.0],\n",
    "    dtype=None,\n",
    "    device=None,\n",
    "    requires_grad=False\n",
    ")"
   ]
  },
  {
   "cell_type": "code",
   "execution_count": 27,
   "id": "90cf7475-0460-46a5-b57c-e0fe58901b57",
   "metadata": {},
   "outputs": [
    {
     "data": {
      "text/plain": [
       "torch.float32"
      ]
     },
     "execution_count": 27,
     "metadata": {},
     "output_type": "execute_result"
    }
   ],
   "source": [
    "float_32_tensor.dtype"
   ]
  },
  {
   "cell_type": "code",
   "execution_count": 28,
   "id": "608ec208-2271-444a-90a0-c162353c0d52",
   "metadata": {},
   "outputs": [
    {
     "data": {
      "text/plain": [
       "tensor([3., 6., 9.], dtype=torch.float16)"
      ]
     },
     "execution_count": 28,
     "metadata": {},
     "output_type": "execute_result"
    }
   ],
   "source": [
    "float_16_tensor = float_32_tensor.type(torch.float16)\n",
    "float_16_tensor"
   ]
  },
  {
   "cell_type": "code",
   "execution_count": 29,
   "id": "38b8bae3-cc86-4603-a270-45302b79a39c",
   "metadata": {},
   "outputs": [
    {
     "data": {
      "text/plain": [
       "tensor([ 9., 36., 81.])"
      ]
     },
     "execution_count": 29,
     "metadata": {},
     "output_type": "execute_result"
    }
   ],
   "source": [
    "float_32_tensor * float_16_tensor"
   ]
  },
  {
   "cell_type": "code",
   "execution_count": 30,
   "id": "5dd11844-5d1e-45c5-ae0b-3b37b223fecc",
   "metadata": {},
   "outputs": [
    {
     "data": {
      "text/plain": [
       "tensor([3, 6, 9], dtype=torch.int32)"
      ]
     },
     "execution_count": 30,
     "metadata": {},
     "output_type": "execute_result"
    }
   ],
   "source": [
    "int_32_tensor = torch.tensor([3, 6, 9], dtype=torch.int32)\n",
    "int_32_tensor"
   ]
  },
  {
   "cell_type": "code",
   "execution_count": 31,
   "id": "d8d4f345-67d0-4c45-abf2-9a28ad54a623",
   "metadata": {},
   "outputs": [
    {
     "data": {
      "text/plain": [
       "tensor([ 9., 36., 81.])"
      ]
     },
     "execution_count": 31,
     "metadata": {},
     "output_type": "execute_result"
    }
   ],
   "source": [
    "float_32_tensor * int_32_tensor"
   ]
  },
  {
   "cell_type": "code",
   "execution_count": 32,
   "id": "ccbcd781-f986-4711-8923-3265a8743303",
   "metadata": {},
   "outputs": [
    {
     "data": {
      "text/plain": [
       "(torch.float32, torch.Size([3]), device(type='cpu'))"
      ]
     },
     "execution_count": 32,
     "metadata": {},
     "output_type": "execute_result"
    }
   ],
   "source": [
    "float_32_tensor.dtype,float_32_tensor.shape,float_32_tensor.device"
   ]
  },
  {
   "cell_type": "code",
   "execution_count": 33,
   "id": "67c7eb6c-71b2-4d8e-a922-6f259048eeda",
   "metadata": {},
   "outputs": [],
   "source": [
    "some_random_tensor = torch.rand(3,4)"
   ]
  },
  {
   "cell_type": "code",
   "execution_count": 34,
   "id": "bdd21b35-b593-46c4-8a25-6fb0aa9d6230",
   "metadata": {},
   "outputs": [
    {
     "name": "stdout",
     "output_type": "stream",
     "text": [
      "tensor([[0.3986, 0.3315, 0.0854, 0.9462],\n",
      "        [0.3913, 0.9404, 0.7527, 0.9935],\n",
      "        [0.8413, 0.6024, 0.5184, 0.0447]])\n",
      "Datatype of tensor: torch.float32\n",
      "Shape of tensor: torch.Size([3, 4])\n",
      "Device of tensor: cpu\n"
     ]
    }
   ],
   "source": [
    "print(some_random_tensor)\n",
    "print(f\"Datatype of tensor: {some_random_tensor.dtype}\")\n",
    "print(f\"Shape of tensor: {some_random_tensor.shape}\")\n",
    "print(f\"Device of tensor: {some_random_tensor.device}\")"
   ]
  },
  {
   "cell_type": "markdown",
   "id": "4957d986-98dd-443b-b58c-8271b8a294c7",
   "metadata": {},
   "source": [
    "### Manipulating Tensor\n",
    "Operations include:\n",
    " - Addition\n",
    " - Subtraction\n",
    " - Multiplication (element-wise)\n",
    " - Division\n",
    " - Matrix multiplication"
   ]
  },
  {
   "cell_type": "code",
   "execution_count": 35,
   "id": "8fbeddf3-a19d-4a8e-b2e8-41ced355e920",
   "metadata": {},
   "outputs": [
    {
     "data": {
      "text/plain": [
       "tensor([11, 12, 13])"
      ]
     },
     "execution_count": 35,
     "metadata": {},
     "output_type": "execute_result"
    }
   ],
   "source": [
    "# Create a tensor and add 10 to it\n",
    "my_tensor = torch.tensor([1,2,3])\n",
    "my_tensor + 10"
   ]
  },
  {
   "cell_type": "code",
   "execution_count": 36,
   "id": "3ab84cf3-cebe-4167-8ef2-77bf99237a0c",
   "metadata": {},
   "outputs": [
    {
     "data": {
      "text/plain": [
       "tensor([10, 20, 30])"
      ]
     },
     "execution_count": 36,
     "metadata": {},
     "output_type": "execute_result"
    }
   ],
   "source": [
    "# Multiply tensor by 10\n",
    "my_tensor * 10"
   ]
  },
  {
   "cell_type": "code",
   "execution_count": 37,
   "id": "5ca6b294-f123-4135-be3d-22a11fdd9a09",
   "metadata": {},
   "outputs": [
    {
     "data": {
      "text/plain": [
       "tensor([1, 2, 3])"
      ]
     },
     "execution_count": 37,
     "metadata": {},
     "output_type": "execute_result"
    }
   ],
   "source": [
    "my_tensor"
   ]
  },
  {
   "cell_type": "code",
   "execution_count": 38,
   "id": "bdf2600c-08cf-49ae-9775-09604d9428d2",
   "metadata": {},
   "outputs": [
    {
     "data": {
      "text/plain": [
       "tensor([-9, -8, -7])"
      ]
     },
     "execution_count": 38,
     "metadata": {},
     "output_type": "execute_result"
    }
   ],
   "source": [
    "# Subtract 10\n",
    "my_tensor - 10"
   ]
  },
  {
   "cell_type": "code",
   "execution_count": 39,
   "id": "8e9ae0cb-0bc2-4e23-a3cf-9025391cfbda",
   "metadata": {},
   "outputs": [
    {
     "data": {
      "text/plain": [
       "tensor([10, 20, 30])"
      ]
     },
     "execution_count": 39,
     "metadata": {},
     "output_type": "execute_result"
    }
   ],
   "source": [
    "# Try out PyTorch in-built functions\n",
    "torch.mul(my_tensor, 10)"
   ]
  },
  {
   "cell_type": "code",
   "execution_count": 40,
   "id": "c8e4e31e-fd12-4cf0-be23-73361b09f55f",
   "metadata": {},
   "outputs": [
    {
     "data": {
      "text/plain": [
       "tensor([11, 12, 13])"
      ]
     },
     "execution_count": 40,
     "metadata": {},
     "output_type": "execute_result"
    }
   ],
   "source": [
    "torch.add(my_tensor, 10)"
   ]
  },
  {
   "cell_type": "markdown",
   "id": "dd684586-5165-482f-8971-f4ceb4a39b66",
   "metadata": {},
   "source": [
    "### Matrix multiplication\n",
    "\n",
    "Two main ways in deep learning\n",
    "1. Elements wise\n",
    "2. Dot product\n",
    "\n",
    "For matrix multiplication:\n",
    "1. Inner dimensions must match:\n",
    "* `(3,2) @ (3,2)` won't work\n",
    "* `(2,3) @ (3,2)` works\n",
    "  \n",
    "2. The resulting matrix has the spae of the outer dimensions"
   ]
  },
  {
   "cell_type": "code",
   "execution_count": 41,
   "id": "2a864374-a60a-4358-9b31-7e4dcc5d6110",
   "metadata": {},
   "outputs": [],
   "source": [
    "mat_mul_tensor1 = torch.randn(3,2)\n",
    "mat_mul_tensor2 = torch.randn(2,3)"
   ]
  },
  {
   "cell_type": "code",
   "execution_count": 42,
   "id": "55741f54-0c6b-4845-a9c1-b30eb916c92f",
   "metadata": {},
   "outputs": [
    {
     "data": {
      "text/plain": [
       "tensor([[ 1.2859, -0.6357, -0.3124],\n",
       "        [-4.0379,  2.3191, -0.1012],\n",
       "        [-0.2691,  0.0042,  0.4973]])"
      ]
     },
     "execution_count": 42,
     "metadata": {},
     "output_type": "execute_result"
    }
   ],
   "source": [
    "torch.matmul(mat_mul_tensor1, mat_mul_tensor2)"
   ]
  },
  {
   "cell_type": "markdown",
   "id": "d4ddbc1b-7e20-4cdd-adca-ee13788f8c7f",
   "metadata": {},
   "source": [
    "### One of the most common errors in deep learning is shape errors"
   ]
  },
  {
   "cell_type": "code",
   "execution_count": 43,
   "id": "2e939da4-07fe-48a0-825c-3ccc5f9e194d",
   "metadata": {},
   "outputs": [
    {
     "data": {
      "text/plain": [
       "tensor([[ 27,  30,  33],\n",
       "        [ 61,  68,  75],\n",
       "        [ 95, 106, 117]])"
      ]
     },
     "execution_count": 43,
     "metadata": {},
     "output_type": "execute_result"
    }
   ],
   "source": [
    "# Shapes for matrix multiplication\n",
    "tensor_A = torch.tensor([[1,2],\n",
    "                         [3,4],\n",
    "                         [5,6]])\n",
    "\n",
    "tensor_B = torch.tensor([[7,10],\n",
    "                         [8,11],\n",
    "                         [9,12]])\n",
    "tensor_A @ tensor_B.T"
   ]
  },
  {
   "cell_type": "markdown",
   "id": "df8e2ada-632b-4a6c-b7ff-1b64e70f3d5a",
   "metadata": {},
   "source": [
    "## Finding min, max, mean, sum, etc (tensor aggregation)"
   ]
  },
  {
   "cell_type": "code",
   "execution_count": 44,
   "id": "1132d341-764e-42e3-8eaf-b55e2ebca2ba",
   "metadata": {},
   "outputs": [
    {
     "data": {
      "text/plain": [
       "(tensor([ 0, 10, 20, 30, 40, 50, 60, 70, 80, 90]), torch.int64)"
      ]
     },
     "execution_count": 44,
     "metadata": {},
     "output_type": "execute_result"
    }
   ],
   "source": [
    "# Create a tensor\n",
    "x = torch.arange(0,100,10)\n",
    "x, x.dtype"
   ]
  },
  {
   "cell_type": "code",
   "execution_count": 45,
   "id": "659d2ccf-5b75-4b6f-bbde-4cae99af8c53",
   "metadata": {},
   "outputs": [
    {
     "data": {
      "text/plain": [
       "(tensor(0), tensor(0))"
      ]
     },
     "execution_count": 45,
     "metadata": {},
     "output_type": "execute_result"
    }
   ],
   "source": [
    "# Find the min\n",
    "torch.min(x), x.min()"
   ]
  },
  {
   "cell_type": "code",
   "execution_count": 46,
   "id": "b112bacc-ab2b-46cb-af73-f3c6ffcec975",
   "metadata": {},
   "outputs": [
    {
     "data": {
      "text/plain": [
       "(tensor(90), tensor(90))"
      ]
     },
     "execution_count": 46,
     "metadata": {},
     "output_type": "execute_result"
    }
   ],
   "source": [
    "# Find the max\n",
    "torch.max(x), x.max()"
   ]
  },
  {
   "cell_type": "code",
   "execution_count": 47,
   "id": "580f0e55-5e69-4cb3-b5b2-c700849c3fd6",
   "metadata": {},
   "outputs": [
    {
     "data": {
      "text/plain": [
       "(tensor(45.), tensor(45.))"
      ]
     },
     "execution_count": 47,
     "metadata": {},
     "output_type": "execute_result"
    }
   ],
   "source": [
    "# Find the mean\n",
    "torch.mean(x,dtype=torch.float32), x.mean(dtype=torch.float32)"
   ]
  },
  {
   "cell_type": "code",
   "execution_count": 48,
   "id": "64303618-edef-4e6b-9881-8f1c6bbec3a7",
   "metadata": {},
   "outputs": [
    {
     "data": {
      "text/plain": [
       "(tensor(450), tensor(450))"
      ]
     },
     "execution_count": 48,
     "metadata": {},
     "output_type": "execute_result"
    }
   ],
   "source": [
    "# Find the sum\n",
    "torch.sum(x), x.sum()"
   ]
  },
  {
   "cell_type": "code",
   "execution_count": 49,
   "id": "2bd9b635-f3b0-4f08-99b2-1a73af3abd9c",
   "metadata": {},
   "outputs": [
    {
     "name": "stdout",
     "output_type": "stream",
     "text": [
      "Minimum position: 0\n",
      "Maximum position: 9\n"
     ]
    }
   ],
   "source": [
    "# Find the positional min and max\n",
    "print(f\"Minimum position: {x.argmin()}\")\n",
    "print(f\"Maximum position: {x.argmax()}\")"
   ]
  },
  {
   "cell_type": "code",
   "execution_count": null,
   "id": "bc0377e8-a8bc-4a75-91c0-bc566e7b2542",
   "metadata": {},
   "outputs": [],
   "source": []
  }
 ],
 "metadata": {
  "kernelspec": {
   "display_name": "Python 3 (ipykernel)",
   "language": "python",
   "name": "python3"
  },
  "language_info": {
   "codemirror_mode": {
    "name": "ipython",
    "version": 3
   },
   "file_extension": ".py",
   "mimetype": "text/x-python",
   "name": "python",
   "nbconvert_exporter": "python",
   "pygments_lexer": "ipython3",
   "version": "3.9.10"
  }
 },
 "nbformat": 4,
 "nbformat_minor": 5
}
