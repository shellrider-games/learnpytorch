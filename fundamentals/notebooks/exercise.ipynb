{
 "cells": [
  {
   "cell_type": "code",
   "execution_count": 1,
   "id": "207bb941-3ff0-4800-a5d8-68b19be3e3cc",
   "metadata": {},
   "outputs": [],
   "source": [
    "import torch"
   ]
  },
  {
   "cell_type": "code",
   "execution_count": 2,
   "id": "b077db02-433d-48b9-85aa-93c144ddbfcb",
   "metadata": {},
   "outputs": [
    {
     "data": {
      "text/plain": [
       "'2.1.2'"
      ]
     },
     "execution_count": 2,
     "metadata": {},
     "output_type": "execute_result"
    }
   ],
   "source": [
    "torch.__version__"
   ]
  },
  {
   "cell_type": "code",
   "execution_count": 3,
   "id": "d5282507-a6e8-48ce-b945-25761a93adfe",
   "metadata": {},
   "outputs": [
    {
     "data": {
      "text/plain": [
       "torch.Size([7, 7])"
      ]
     },
     "execution_count": 3,
     "metadata": {},
     "output_type": "execute_result"
    }
   ],
   "source": [
    "tensor = torch.rand(7,7)\n",
    "tensor.shape"
   ]
  },
  {
   "cell_type": "code",
   "execution_count": 4,
   "id": "3cdc9f88-eef3-4f50-bd27-0f298992a736",
   "metadata": {},
   "outputs": [],
   "source": [
    "another_tensor = torch.rand(1,7)"
   ]
  },
  {
   "cell_type": "code",
   "execution_count": 5,
   "id": "c13234c2-4674-4de1-960c-3ff5e62c3fff",
   "metadata": {},
   "outputs": [
    {
     "data": {
      "text/plain": [
       "(torch.Size([7, 7]), torch.Size([7, 1]))"
      ]
     },
     "execution_count": 5,
     "metadata": {},
     "output_type": "execute_result"
    }
   ],
   "source": [
    "tensor.shape, another_tensor.T.shape"
   ]
  },
  {
   "cell_type": "code",
   "execution_count": 6,
   "id": "97c887ba-374e-46c9-929f-9bec233dfc6e",
   "metadata": {},
   "outputs": [],
   "source": [
    "mat_mul_result = torch.mm(tensor,another_tensor.T)"
   ]
  },
  {
   "cell_type": "code",
   "execution_count": 7,
   "id": "c1518ebb-5278-4120-b974-5d737e9e3871",
   "metadata": {},
   "outputs": [
    {
     "data": {
      "text/plain": [
       "tensor([[1.7526],\n",
       "        [2.0169],\n",
       "        [1.7115],\n",
       "        [1.7249],\n",
       "        [2.5175],\n",
       "        [1.9493],\n",
       "        [1.7530]])"
      ]
     },
     "execution_count": 7,
     "metadata": {},
     "output_type": "execute_result"
    }
   ],
   "source": [
    "mat_mul_result"
   ]
  },
  {
   "cell_type": "code",
   "execution_count": 8,
   "id": "92132791-3c3c-4ef6-8da4-3614b0e47eaf",
   "metadata": {},
   "outputs": [
    {
     "data": {
      "text/plain": [
       "(tensor([[0.0232, 0.6992, 0.3651, 0.5589, 0.4195, 0.2001, 0.6877],\n",
       "         [0.4964, 0.3911, 0.9829, 0.6458, 0.8018, 0.2201, 0.4243],\n",
       "         [0.1719, 0.7228, 0.4304, 0.4801, 0.0621, 0.0311, 0.9049],\n",
       "         [0.9106, 0.4745, 0.7718, 0.3116, 0.0757, 0.0506, 0.4832],\n",
       "         [0.6663, 0.9052, 0.4592, 0.1874, 0.0878, 0.7330, 0.5835],\n",
       "         [0.6742, 0.5206, 0.1472, 0.1373, 0.8099, 0.3158, 0.5517],\n",
       "         [0.2246, 0.1341, 0.8028, 0.4842, 0.5262, 0.8345, 0.1789]]),\n",
       " tensor([[0.4813, 0.9881, 0.5125, 0.0477, 0.4770, 0.8451, 0.6800]]))"
      ]
     },
     "execution_count": 8,
     "metadata": {},
     "output_type": "execute_result"
    }
   ],
   "source": [
    "tensor, another_tensor"
   ]
  },
  {
   "cell_type": "code",
   "execution_count": 9,
   "id": "9a5df627-f33d-4160-b8bf-fcfcc75209a5",
   "metadata": {},
   "outputs": [
    {
     "data": {
      "text/plain": [
       "(tensor([[0.4963, 0.7682, 0.0885, 0.1320, 0.3074, 0.6341, 0.4901],\n",
       "         [0.8964, 0.4556, 0.6323, 0.3489, 0.4017, 0.0223, 0.1689],\n",
       "         [0.2939, 0.5185, 0.6977, 0.8000, 0.1610, 0.2823, 0.6816],\n",
       "         [0.9152, 0.3971, 0.8742, 0.4194, 0.5529, 0.9527, 0.0362],\n",
       "         [0.1852, 0.3734, 0.3051, 0.9320, 0.1759, 0.2698, 0.1507],\n",
       "         [0.0317, 0.2081, 0.9298, 0.7231, 0.7423, 0.5263, 0.2437],\n",
       "         [0.5846, 0.0332, 0.1387, 0.2422, 0.8155, 0.7932, 0.2783]]),\n",
       " tensor([[0.4820, 0.8198, 0.9971, 0.6984, 0.5675, 0.8352, 0.2056]]))"
      ]
     },
     "execution_count": 9,
     "metadata": {},
     "output_type": "execute_result"
    }
   ],
   "source": [
    "RANDOM_SEED = 0\n",
    "torch.manual_seed(RANDOM_SEED)\n",
    "a = torch.rand(7,7)\n",
    "b = torch.rand(1,7)\n",
    "a,b"
   ]
  },
  {
   "cell_type": "code",
   "execution_count": 10,
   "id": "0f5b457b-144d-40ff-881b-1394df3842ed",
   "metadata": {},
   "outputs": [
    {
     "data": {
      "text/plain": [
       "True"
      ]
     },
     "execution_count": 10,
     "metadata": {},
     "output_type": "execute_result"
    }
   ],
   "source": [
    "torch.backends.mps.is_available()"
   ]
  },
  {
   "cell_type": "code",
   "execution_count": 11,
   "id": "29d586d9-3f74-4267-ba1e-2ee5b48f8f49",
   "metadata": {},
   "outputs": [
    {
     "data": {
      "text/plain": [
       "False"
      ]
     },
     "execution_count": 11,
     "metadata": {},
     "output_type": "execute_result"
    }
   ],
   "source": [
    "torch.cuda.is_available()"
   ]
  },
  {
   "cell_type": "code",
   "execution_count": 13,
   "id": "8798a701-faa7-4174-84b9-9eecb7eac788",
   "metadata": {},
   "outputs": [],
   "source": [
    "torch.mps.manual_seed(RANDOM_SEED)"
   ]
  },
  {
   "cell_type": "code",
   "execution_count": 15,
   "id": "3fc00b93-1eac-4344-96d1-927abc1aa786",
   "metadata": {},
   "outputs": [],
   "source": [
    "torch.manual_seed(1234)\n",
    "a = torch.rand(2,3)\n",
    "b = torch.rand(2,3)"
   ]
  },
  {
   "cell_type": "code",
   "execution_count": 23,
   "id": "8705d34b-237e-41de-94f2-12787902e5b1",
   "metadata": {},
   "outputs": [
    {
     "data": {
      "text/plain": [
       "(device(type='mps', index=0), device(type='mps', index=0))"
      ]
     },
     "execution_count": 23,
     "metadata": {},
     "output_type": "execute_result"
    }
   ],
   "source": [
    "a.device, b.device"
   ]
  },
  {
   "cell_type": "code",
   "execution_count": 21,
   "id": "cc52e350-4e2d-48d4-bfbe-715368c20b73",
   "metadata": {},
   "outputs": [],
   "source": [
    "a = a.to('mps')"
   ]
  },
  {
   "cell_type": "code",
   "execution_count": 22,
   "id": "d13d0001-6d76-4b56-b1fc-b227177c9aa8",
   "metadata": {},
   "outputs": [],
   "source": [
    "b = b.to('mps')"
   ]
  },
  {
   "cell_type": "code",
   "execution_count": 25,
   "id": "ffe6b833-b879-4ba5-9aba-fc13cb498688",
   "metadata": {},
   "outputs": [],
   "source": [
    "a_times_b =  a @ b.T"
   ]
  },
  {
   "cell_type": "code",
   "execution_count": 26,
   "id": "1cdb2ec2-5bf2-4577-9c1e-eddca96d93a2",
   "metadata": {},
   "outputs": [
    {
     "data": {
      "text/plain": [
       "tensor([[0.3647, 0.4709],\n",
       "        [0.5184, 0.5617]], device='mps:0')"
      ]
     },
     "execution_count": 26,
     "metadata": {},
     "output_type": "execute_result"
    }
   ],
   "source": [
    "a_times_b"
   ]
  },
  {
   "cell_type": "code",
   "execution_count": 29,
   "id": "a8de7ac6-82eb-48b4-8ca2-bac5d98774c5",
   "metadata": {},
   "outputs": [
    {
     "data": {
      "text/plain": [
       "(tensor(0.5617, device='mps:0'), tensor(0.3647, device='mps:0'))"
      ]
     },
     "execution_count": 29,
     "metadata": {},
     "output_type": "execute_result"
    }
   ],
   "source": [
    "a_times_b.max(), a_times_b.min()"
   ]
  },
  {
   "cell_type": "code",
   "execution_count": 30,
   "id": "0da8f34a-1dfc-4d70-8a38-df7b0c142416",
   "metadata": {},
   "outputs": [
    {
     "data": {
      "text/plain": [
       "(tensor(0.5617, device='mps:0'), tensor(0.3647, device='mps:0'))"
      ]
     },
     "execution_count": 30,
     "metadata": {},
     "output_type": "execute_result"
    }
   ],
   "source": [
    "torch.max(a_times_b), torch.min(a_times_b)"
   ]
  },
  {
   "cell_type": "code",
   "execution_count": 31,
   "id": "93fef706-7348-4752-8cc9-5503ed4ba39e",
   "metadata": {},
   "outputs": [
    {
     "data": {
      "text/plain": [
       "(tensor(3, device='mps:0'), tensor(0, device='mps:0'))"
      ]
     },
     "execution_count": 31,
     "metadata": {},
     "output_type": "execute_result"
    }
   ],
   "source": [
    "torch.argmax(a_times_b), torch.argmin(a_times_b)"
   ]
  },
  {
   "cell_type": "code",
   "execution_count": 40,
   "id": "bacac0d1-3a28-4ac7-b8c6-85912902890f",
   "metadata": {},
   "outputs": [
    {
     "data": {
      "text/plain": [
       "torch.Size([1, 3, 1, 10])"
      ]
     },
     "execution_count": 40,
     "metadata": {},
     "output_type": "execute_result"
    }
   ],
   "source": [
    "random_tensor = torch.rand(1,3,1,10)\n",
    "random_tensor.shape"
   ]
  },
  {
   "cell_type": "code",
   "execution_count": 47,
   "id": "c535cae1-85cd-41ca-a188-ada80cc9d344",
   "metadata": {},
   "outputs": [
    {
     "data": {
      "text/plain": [
       "tensor([[[[0.6839, 0.7658, 0.9149, 0.3993, 0.1100, 0.2541, 0.4333, 0.4451,\n",
       "           0.4966, 0.7865]],\n",
       "\n",
       "         [[0.6604, 0.1303, 0.3498, 0.3824, 0.8043, 0.3186, 0.2908, 0.4196,\n",
       "           0.3728, 0.3769]],\n",
       "\n",
       "         [[0.0108, 0.9455, 0.7661, 0.2634, 0.1880, 0.5174, 0.7849, 0.1412,\n",
       "           0.3112, 0.7091]]]])"
      ]
     },
     "execution_count": 47,
     "metadata": {},
     "output_type": "execute_result"
    }
   ],
   "source": [
    "squeezed = torch.squeeze(random_tensor, dim=1)\n",
    "squeezed"
   ]
  },
  {
   "cell_type": "code",
   "execution_count": 39,
   "id": "42b19124-be29-473b-a98b-932ecea36aa9",
   "metadata": {},
   "outputs": [
    {
     "data": {
      "text/plain": [
       "torch.Size([3, 10])"
      ]
     },
     "execution_count": 39,
     "metadata": {},
     "output_type": "execute_result"
    }
   ],
   "source": [
    "squeezed.shape"
   ]
  },
  {
   "cell_type": "code",
   "execution_count": 36,
   "id": "7f5ca85d-6821-4100-b82f-7f91a2172e49",
   "metadata": {},
   "outputs": [
    {
     "data": {
      "text/plain": [
       "torch.Size([1, 1, 1, 10])"
      ]
     },
     "execution_count": 36,
     "metadata": {},
     "output_type": "execute_result"
    }
   ],
   "source": [
    "random_tensor.shape"
   ]
  },
  {
   "cell_type": "code",
   "execution_count": null,
   "id": "ebead81c-ea12-4de9-a820-c83a47957483",
   "metadata": {},
   "outputs": [],
   "source": []
  }
 ],
 "metadata": {
  "kernelspec": {
   "display_name": "Python 3 (ipykernel)",
   "language": "python",
   "name": "python3"
  },
  "language_info": {
   "codemirror_mode": {
    "name": "ipython",
    "version": 3
   },
   "file_extension": ".py",
   "mimetype": "text/x-python",
   "name": "python",
   "nbconvert_exporter": "python",
   "pygments_lexer": "ipython3",
   "version": "3.9.10"
  }
 },
 "nbformat": 4,
 "nbformat_minor": 5
}
